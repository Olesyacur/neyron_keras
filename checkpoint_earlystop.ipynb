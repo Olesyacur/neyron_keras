{
 "cells": [
  {
   "cell_type": "code",
   "execution_count": null,
   "metadata": {},
   "outputs": [],
   "source": [
    "import keras\n",
    "\n",
    "''' Обратные вызовы ModelCheckpoint и EarlyStopping'''\n",
    "\n",
    "# Передача обратных вызовов в модель через арг callbacks метода fit\n",
    "# в виде списка. Можно передать любое кол-во обратных вызовов\n",
    "callbacks_list = [\n",
    "    keras.callbacks.EarlyStopping( # прерывание обуч, когда кач-во не улучш \n",
    "        monitor='acc', # слежение за изм точности мод на пров данных\n",
    "        patience=1, # прерыв обуч если точность не улуч дольше 1 эпохи\n",
    "    ),\n",
    "    keras.callbacks.ModelCheckpoint( # сохр текущих весов после к. эпохи\n",
    "        filepath='my_model.h5', # путь к файлу модели\n",
    "        # эти арг-ы требуют, чтобы файл модели не затирался, если значение\n",
    "        # val_loss не улучшилось, что сохраняет только лучшую модель\n",
    "        monitor='val_loss',\n",
    "        save_best_only=True,\n",
    "    )\n",
    "]\n",
    "\n",
    "# Мы следим за точностью, значит она должна быть частью набора метрик мод\n",
    "model.compile(optimizer='rmsprop',\n",
    "              loss='binary_crossentropy',\n",
    "              metrics=['acc'])\n",
    "\n",
    "# поскольку обратный вызов следит за потерями и точностью на проверочных\n",
    "# данных, мы должна передать validation_data в вызов fit\n",
    "model.fit(x, y,\n",
    "          epochs=10,\n",
    "          batch_size=32,\n",
    "          callbacks=callbacks_list,\n",
    "          validation_data=(x_val, y_val))\n",
    "\t\t  "
   ]
  }
 ],
 "metadata": {
  "language_info": {
   "name": "python"
  },
  "orig_nbformat": 4
 },
 "nbformat": 4,
 "nbformat_minor": 2
}
