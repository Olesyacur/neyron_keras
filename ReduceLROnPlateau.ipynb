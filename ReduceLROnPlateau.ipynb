{
 "cells": [
  {
   "cell_type": "code",
   "execution_count": null,
   "metadata": {},
   "outputs": [],
   "source": [
    "import keras\n",
    "\n",
    "'''Обратный вызов ReduceLROnPlateau. '''\n",
    "\n",
    "callbacks_list = [\n",
    "    keras.callbacks.ReduceLROnPlateau(\n",
    "        monitor='val_loss', # Мониторинг потерь на пров данных\n",
    "        factor=0.1, # уменьшение скорости обучения в 10 раз\n",
    "        patience=10, # произв-ие вызова, когда потери не улуш через 10 эпох\n",
    "    )\n",
    "]\n",
    "\n",
    "# поскольку обратный вызов следит за потерями и точностью на проверочных\n",
    "# данных, мы должна передать validation_data в вызов fit\n",
    "model.fit(x, y,\n",
    "          epochs=10,\n",
    "          batch_size=32,\n",
    "          callbacks=callbacks_list,\n",
    "          validation_data=(x_val, y_val))\n",
    "\t\t  "
   ]
  }
 ],
 "metadata": {
  "language_info": {
   "name": "python"
  },
  "orig_nbformat": 4
 },
 "nbformat": 4,
 "nbformat_minor": 2
}
