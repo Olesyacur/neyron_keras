{
 "cells": [
  {
   "cell_type": "code",
   "execution_count": null,
   "metadata": {},
   "outputs": [],
   "source": [
    "from keras import layers\n",
    "from keras import Input\n",
    "from keras.models import Model\n",
    "\n",
    "''' Повторное использование экземпляров слоев. '''\n",
    "\n",
    "# Создание единственного экземпляра слоя LTSM, выполняется однократно\n",
    "lstm = layers.LSTM(32)\n",
    "\n",
    "# Конструирование левой ветви модели:\n",
    "# на вход подаются послед-сти переменной длины векторов с размер-тью 128\n",
    "left_input = Input(shape=(None, 128))\n",
    "left_output = lstm(left_input)\n",
    "\n",
    "# Конструирование правой ветви модели:\n",
    "# обращаясь к сущ экземпляру слоя, повторно используется его вес\n",
    "right_input = Input(shape=(None, 128))\n",
    "right_output = lstm(right_input)\n",
    "\n",
    "# Добавление классификатора сверху\n",
    "merged = layers.concatenate([left_output, right_output], axis=-1)\n",
    "predictions = layers.Dense(1, activation='sigmoid')(merged)\n",
    "\n",
    "# Создание и обучение моделиЖ\n",
    "# в процессе обучения такой модели веса слоя LTSM обновляются в процессе\n",
    "# обработки обоих входов\n",
    "model = Model([left_input, right_input], predictions)\n",
    "model.fit([left_data, right_data], targets)\n",
    "\n",
    "# экземпляр слоя модно использовать неоднократно\n"
   ]
  }
 ],
 "metadata": {
  "language_info": {
   "name": "python"
  },
  "orig_nbformat": 4
 },
 "nbformat": 4,
 "nbformat_minor": 2
}
