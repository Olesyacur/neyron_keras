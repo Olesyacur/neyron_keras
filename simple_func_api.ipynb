{
 "cells": [
  {
   "cell_type": "code",
   "execution_count": null,
   "metadata": {},
   "outputs": [],
   "source": [
    "from keras.utils.data_utils import Sequence\n",
    "from keras import Input, layers\n",
    "from keras import Sequential, Model\n",
    "import numpy as np\n",
    "\n",
    "\n",
    "input_tensor = Input(shape=(32,)) # Тензор\n",
    "\n",
    "dense = layers.Dense(32, activation='relu') # Слой - это функция\n",
    "\n",
    "output_tensor = dense(input_tensor) # Вызыв-й слой м. приним. и возвр. тензор\n",
    "\n",
    "print(output_tensor)\n",
    "\n",
    "seq_model = Sequential()\n",
    "seq_model.add(layers.Dense(32, activation='relu', input_shape=(64,)))\n",
    "seq_model.add(layers.Dense(32, activation='relu'))\n",
    "seq_model.add(layers.Dense(10, activation='softmax'))\n",
    "\n",
    "# Функциональный эквивалент модели Sequential\n",
    "input_tensor = Input(shape=(64,))\n",
    "x = layers.Dense(32, activation='relu')(input_tensor)\n",
    "x = layers.Dense(32, activation='relu')(x)\n",
    "output_tensor = layers.Dense(10, activation='softmax')(x)\n",
    "\n",
    "# Класс Model превращает вх и вых тензоры в модель\n",
    "model = Model(input_tensor, output_tensor)\n",
    "\n",
    "print(model.summary())\n",
    "\n",
    "# Компиляция модели\n",
    "model.compile(\n",
    "    optimizer='rmsprop',\n",
    "    loss = 'categorical_crossentropy'\n",
    ")\n",
    "\n",
    "# Генерация фиктивных данных для обучения\n",
    "x_train = np.random.random((1000, 64))\n",
    "y_train = np.random.random((1000, 10))\n",
    "\n",
    "# Обучение моодели на протяжении 10 эпох\n",
    "model.fit(x_train, y_train,\n",
    "          epochs=10,\n",
    "          batch_size=128)\n",
    "\n",
    "# Оценка модели\n",
    "score = model.evaluate(x_train, y_train)\n",
    "\n",
    "print(score)"
   ]
  }
 ],
 "metadata": {
  "language_info": {
   "name": "python"
  },
  "orig_nbformat": 4
 },
 "nbformat": 4,
 "nbformat_minor": 2
}
