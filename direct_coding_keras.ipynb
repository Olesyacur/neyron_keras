{
 "cells": [
  {
   "cell_type": "code",
   "execution_count": null,
   "metadata": {},
   "outputs": [],
   "source": [
    "from keras.preprocessing.text import Tokenizer\n",
    "import numpy as np\n",
    "\n",
    "\n",
    "'''Прямое кодирование слов с использованием керас'''\n",
    "\n",
    "samples = ['The cat sat on the mat.', 'The dog eat my homework.']\n",
    "\n",
    "# Создание токенизатора и его настройка на учет только 1000 наиболее часто используемых слов.\n",
    "tokenizer = Tokenizer(num_words=1000)\n",
    "tokenizer.fit_on_texts(samples) # Создание индекса всех слов\n",
    "\n",
    "# Преобразование строк в списки целочисленных индексов\n",
    "sequences = tokenizer.texts_to_sequences(samples)\n",
    "\n",
    "# Прямые бинарные представления. Но этот токенизатор подддердивает и другие режимы векторизации.\n",
    "one_hot_results = tokenizer.texts_to_matrix(samples, mode='binary')\n",
    "\n",
    "word_index = tokenizer.word_index\n",
    "print('Found %s unique tokens.' % len(word_index))\n",
    "\n",
    "'''Прямое кодирование на уровне слов с использованием хеширования (упрощенно).'''\n",
    "\n",
    "# Слова будут сохраняться как векторы с размером 1000. Если число слов близко к 1000, то будет множество хеш-коллизий, снижающих точность этого метода кодирования\n",
    "dimensionality = 1000\n",
    "max_length = 10\n",
    "\n",
    "results = np.zeros(\n",
    "    (len(samples),\n",
    "     max_length,\n",
    "     dimensionality)\n",
    ")\n",
    "for i, samples in enumerate(samples):\n",
    "    for j, word in list(enumerate(samples.split()))[:max_length]:\n",
    "        # Хеширование слов в случ. целочисл-ые индексы от 0 до 1000\n",
    "        index = abs(hash(word)) % dimensionality\n",
    "        \n",
    "        results[i, j, index] = 1.\n",
    "\n",
    "print(results)"
   ]
  }
 ],
 "metadata": {
  "language_info": {
   "name": "python"
  },
  "orig_nbformat": 4
 },
 "nbformat": 4,
 "nbformat_minor": 2
}
