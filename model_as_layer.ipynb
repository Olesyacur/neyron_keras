{
 "cells": [
  {
   "cell_type": "code",
   "execution_count": null,
   "metadata": {},
   "outputs": [],
   "source": [
    "from keras import layers\n",
    "from keras import applications\n",
    "from keras import Input\n",
    "\n",
    "'''Модели как слои.'''\n",
    "\n",
    "# Можно вызвать модель, передать ей вх тензор и получить вых тензор\n",
    "y = model(x)\n",
    "# Если модель принимает неск вх тензоров и возвращает неск, то нужны списки\n",
    "y1, y2 = model([x1, x2])\n",
    "\n",
    "# Пример реализации сиамской модели зрения (с общей сверточной основой)\n",
    "\n",
    "# Базовая модель обработки изображения - сеть Xception (сверточная основа)\n",
    "xception_base = applications.Xception(weights=None,\n",
    "                                      include_top=False)\n",
    "\n",
    "# На вход подаются изображения в формате RGB и с размером 250х250\n",
    "left_input = Input(shape=(250, 250, 3))\n",
    "right_input = Input(shape=(250, 250, 3))\n",
    "\n",
    "# Одна и та же модель, вызывается дважды\n",
    "left_features = xception_base(left_input)\n",
    "right_input = xception_base(right_input)\n",
    "\n",
    "# Объединенный набор признаков содержит инф. из правого и левого источников\n",
    "# визуальной информации\n",
    "merged_features = layers.concatenate(\n",
    "    [left_features, right_input], axis=-1)\n",
    "\t"
   ]
  }
 ],
 "metadata": {
  "language_info": {
   "name": "python"
  },
  "orig_nbformat": 4
 },
 "nbformat": 4,
 "nbformat_minor": 2
}
