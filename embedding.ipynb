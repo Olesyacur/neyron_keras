{
 "cells": [
  {
   "cell_type": "code",
   "execution_count": null,
   "metadata": {},
   "outputs": [],
   "source": [
    "'''Конструирование векторных представлений слов с помощью слоя Embedding.'''\n",
    "\n",
    "'''Создание слоя Embedding.'''\n",
    "from keras.datasets import imdb\n",
    "from keras import preprocessing\n",
    "from keras.models import Sequential\n",
    "from keras.layers import Flatten, Dense, Embedding\n",
    "\n",
    "# Слой Embedding принимает минимум 2 аргумента: кол-во возможных токенов (1000:1 + макс индекс слова) и размерность пространства (64)\n",
    "embedding_layer = Embedding(1000, 64)\n",
    "\n",
    "max_features = 10000 # Количество слов, рассм как признаки\n",
    "maxlen = 20 # Образка текста после этого количества слов\n",
    "\n",
    "(x_train, y_train), (x_test, y_test) = imdb.load_data(\n",
    "    num_words=max_features\n",
    ") # Загрузка данных как списков целых чисел\n",
    "\n",
    "# Преобразование списков целых чисел в 2мерный тензор с целыми числами и формой\n",
    "x_train = preprocessing.sequence.pad_sequences(x_train, maxlen=maxlen)\n",
    "x_test = preprocessing.sequence.pad_sequences(x_test, maxlen=maxlen)\n",
    "\n",
    "model = Sequential()\n",
    "model.add(Embedding(10000, 8, input_length=maxlen))\n",
    "# Преобразование 3мерного тензора в 2мерный\n",
    "model.add(Flatten())\n",
    "# Добавление классификатора сверху\n",
    "model.add(Dense(1, activation='sigmoid'))\n",
    "\n",
    "model.compile(\n",
    "    optimizer='rmsprop',\n",
    "    loss='binary_crossentropy',\n",
    "    metrics=['acc']\n",
    ")\n",
    "model.summary()\n",
    "\n",
    "history = model.fit(\n",
    "    x_train,\n",
    "    y_train,\n",
    "    epochs=10,\n",
    "    batch_size=32,\n",
    "    validation_split=0.2\n",
    ")\n",
    "\n",
    "results1 = model.evaluate(x_test, y_test)\n",
    "print(results1)"
   ]
  }
 ],
 "metadata": {
  "language_info": {
   "name": "python"
  },
  "orig_nbformat": 4
 },
 "nbformat": 4,
 "nbformat_minor": 2
}
